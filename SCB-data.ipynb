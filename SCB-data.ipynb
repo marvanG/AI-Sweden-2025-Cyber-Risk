{
 "cells": [
  {
   "cell_type": "code",
   "execution_count": 11,
   "id": "3e2f2cc9",
   "metadata": {},
   "outputs": [
    {
     "data": {
      "text/html": [
       "<div>\n",
       "<style scoped>\n",
       "    .dataframe tbody tr th:only-of-type {\n",
       "        vertical-align: middle;\n",
       "    }\n",
       "\n",
       "    .dataframe tbody tr th {\n",
       "        vertical-align: top;\n",
       "    }\n",
       "\n",
       "    .dataframe thead th {\n",
       "        text-align: right;\n",
       "    }\n",
       "</style>\n",
       "<table border=\"1\" class=\"dataframe\">\n",
       "  <thead>\n",
       "    <tr style=\"text-align: right;\">\n",
       "      <th></th>\n",
       "      <th></th>\n",
       "      <th></th>\n",
       "      <th></th>\n",
       "      <th></th>\n",
       "      <th>Share of enterprises who had any ICT related security incidents that led to consequences by type of consequences, study domain, observations and year</th>\n",
       "    </tr>\n",
       "  </thead>\n",
       "  <tbody>\n",
       "    <tr>\n",
       "      <th>type of consequences</th>\n",
       "      <th>study domain</th>\n",
       "      <th>share of enterprises, percent 2021</th>\n",
       "      <th>share of enterprises, percent 2023</th>\n",
       "      <th>margin of error, ± 2021</th>\n",
       "      <td>margin of error, ± 2023</td>\n",
       "    </tr>\n",
       "    <tr>\n",
       "      <th rowspan=\"4\" valign=\"top\">unavailability of ICT services due to hardware/software failures</th>\n",
       "      <th>10 or more employees in total</th>\n",
       "      <th>17</th>\n",
       "      <th>16</th>\n",
       "      <th>2</th>\n",
       "      <td>2</td>\n",
       "    </tr>\n",
       "    <tr>\n",
       "      <th>10-49 employees</th>\n",
       "      <th>15</th>\n",
       "      <th>14</th>\n",
       "      <th>2</th>\n",
       "      <td>2</td>\n",
       "    </tr>\n",
       "    <tr>\n",
       "      <th>50-249 employees</th>\n",
       "      <th>24</th>\n",
       "      <th>25</th>\n",
       "      <th>3</th>\n",
       "      <td>4</td>\n",
       "    </tr>\n",
       "    <tr>\n",
       "      <th>250 or more employees</th>\n",
       "      <th>39</th>\n",
       "      <th>37</th>\n",
       "      <th>1</th>\n",
       "      <td>1</td>\n",
       "    </tr>\n",
       "  </tbody>\n",
       "</table>\n",
       "</div>"
      ],
      "text/plain": [
       "                                                                                                                                                                               Share of enterprises who had any ICT related security incidents that led to consequences by type of consequences, study domain, observations and year\n",
       "type of consequences                               study domain                  share of enterprises, percent 2021 share of enterprises, percent 2023 margin of error, ± 2021                            margin of error, ± 2023                                                                                                   \n",
       "unavailability of ICT services due to hardware/... 10 or more employees in total 17                                 16                                 2                                                                        2                                                                                                   \n",
       "                                                   10-49 employees               15                                 14                                 2                                                                        2                                                                                                   \n",
       "                                                   50-249 employees              24                                 25                                 3                                                                        4                                                                                                   \n",
       "                                                   250 or more employees         39                                 37                                 1                                                                        1                                                                                                   "
      ]
     },
     "execution_count": 11,
     "metadata": {},
     "output_type": "execute_result"
    }
   ],
   "source": [
    "# Hey\n",
    "# Data analytics\n",
    "import pandas as pd\n",
    "\n",
    "industry_path = \"industry.csv\"\n",
    "regions_path = \"regions.csv\"\n",
    "S_path = \"S-enterprises.csv\"\n",
    "ML_path = \"M-L-enterprises.csv\"\n",
    "\n",
    "industry_df = pd.read_csv(ML_path, sep=';', encoding='cp1252')\n",
    "\n",
    "industry_df.head()\n"
   ]
  },
  {
   "cell_type": "code",
   "execution_count": null,
   "id": "8522ba46",
   "metadata": {},
   "outputs": [],
   "source": []
  }
 ],
 "metadata": {
  "kernelspec": {
   "display_name": "venv",
   "language": "python",
   "name": "python3"
  },
  "language_info": {
   "codemirror_mode": {
    "name": "ipython",
    "version": 3
   },
   "file_extension": ".py",
   "mimetype": "text/x-python",
   "name": "python",
   "nbconvert_exporter": "python",
   "pygments_lexer": "ipython3",
   "version": "3.13.2"
  }
 },
 "nbformat": 4,
 "nbformat_minor": 5
}
